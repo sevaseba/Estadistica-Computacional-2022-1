{
  "cells": [
    {
      "cell_type": "markdown",
      "metadata": {
        "id": "AHwh8pEKeYYz"
      },
      "source": [
        "# Tarea 2 - Estadística Computacional\n",
        "\n",
        "- Nombre: __________________\n",
        "- Nombre: __________________\n",
        "\n",
        "Curso: Estadística Computacional\n",
        "\n",
        "Doctorado en Estadística\n",
        "\n",
        "\n",
        "Responda las preguntas que se indican colocando el código requerido. El Notebook se entrega totalmente ejecutado."
      ]
    },
    {
      "cell_type": "markdown",
      "metadata": {
        "id": "hJSM7VpweYZM"
      },
      "source": [
        "**Ingrese los Toolbox que se utilizarán en este Jupyter**"
      ]
    },
    {
      "cell_type": "code",
      "execution_count": 2,
      "metadata": {
        "id": "PtEZppw_eYZN"
      },
      "outputs": [],
      "source": [
        "import time\n",
        "import numpy as np"
      ]
    },
    {
      "cell_type": "code",
      "source": [
        ""
      ],
      "metadata": {
        "id": "sppn5hhj7F-v"
      },
      "execution_count": null,
      "outputs": []
    },
    {
      "cell_type": "markdown",
      "metadata": {
        "id": "5KkNh4CReYZP"
      },
      "source": [
        "## 1. Estudio de Algoritmos de Ordenamiento\n",
        "\n",
        "Realizar un estudio comparativo de los tiempos de ejecución requeridos por los algoritmos de ordenamientos, para ordernar listas de elementos con diferentes tamaños. El estudio debe considerar al menos 4 algoritmos de ordenamientos diferentes seleccionados por Ud."
      ]
    },
    {
      "cell_type": "markdown",
      "source": [
        "**1.1.-** Implementar una función que genere una lista con $n$ números aleatorios en el rango $a$, $b$. Los parámetros $n, a, b$ son ingresados por el usuario."
      ],
      "metadata": {
        "id": "rmlPckNH7RCF"
      }
    },
    {
      "cell_type": "code",
      "source": [
        ""
      ],
      "metadata": {
        "id": "hyV0Orw-7OhK"
      },
      "execution_count": null,
      "outputs": []
    },
    {
      "cell_type": "markdown",
      "source": [
        "**1.2.-** Implementar al menos 4 funciones con algoritmos de ordenamientos diferentes"
      ],
      "metadata": {
        "id": "KRv8yoT47wc2"
      }
    },
    {
      "cell_type": "code",
      "execution_count": null,
      "metadata": {
        "id": "MZPv0VUZeYai"
      },
      "outputs": [],
      "source": [
        ""
      ]
    },
    {
      "cell_type": "markdown",
      "source": [
        "**1.3.-** Calcular los tiempos de ejecución requeridos por los métodos para ordenar listas aleatorias de elementos con $n= 10, 100, 1000, 10000, 100000$ elementos.  "
      ],
      "metadata": {
        "id": "WHpkXJJC784X"
      }
    },
    {
      "cell_type": "code",
      "source": [
        ""
      ],
      "metadata": {
        "id": "_gGty8Ej8Uf1"
      },
      "execution_count": null,
      "outputs": []
    },
    {
      "cell_type": "markdown",
      "source": [
        "**1.4.-** Colcar una tabla comparativa con los resultados, además de un gráfico de $n$ vs $tiempo$."
      ],
      "metadata": {
        "id": "HKfkfX618URH"
      }
    },
    {
      "cell_type": "code",
      "source": [
        "# Tabla comparativa"
      ],
      "metadata": {
        "id": "nBm1Xopk8Tsy"
      },
      "execution_count": null,
      "outputs": []
    },
    {
      "cell_type": "code",
      "execution_count": null,
      "metadata": {
        "id": "Z1CM8opKeYal"
      },
      "outputs": [],
      "source": [
        "# Gráfico"
      ]
    },
    {
      "cell_type": "markdown",
      "source": [
        "**Concluir:** Agregue su texto aquí."
      ],
      "metadata": {
        "id": "v7T1zmaO8k0m"
      }
    },
    {
      "cell_type": "markdown",
      "source": [
        "## 2. Métodos Numéricos"
      ],
      "metadata": {
        "id": "EBWxhtFX8qt5"
      }
    },
    {
      "cell_type": "markdown",
      "source": [
        "**2.1.** Implementar el método de Halley cuya ecuación de iteración está dada por:\n",
        "\n",
        "$$g(x) = x - \\frac{f(x)}{f'(x)}\\left(1 - \\frac{f(x)\\cdot f''(x)}{2(f'(x))^2} \\right)^{-1}$$\n",
        "\n",
        "Una vez implementada la función, aplicarla para resolver la ecuación:\n",
        "\n",
        "$$f(x) = x^3 -3x + 2$$\n",
        "\n",
        "con punto de partida $x_0=2.4$."
      ],
      "metadata": {
        "id": "HaygfRjb8qQb"
      }
    },
    {
      "cell_type": "code",
      "source": [
        ""
      ],
      "metadata": {
        "id": "ngZ_Va748rAn"
      },
      "execution_count": null,
      "outputs": []
    },
    {
      "cell_type": "markdown",
      "source": [
        "**2.2** El proceso de aceleración de Aitken se utiliza para acelerar el proceso de convergencia de los algoritmos con convergencia lineal.\n",
        "\n",
        "Dada una secuencia $\\{x_n\\}_{n=0}^{\\infty}$ que converge linealmente a $p$, entonces el proceso de Aitken está dada por:\n",
        "\n",
        "$$q_n = x_n - \\frac{(x_{n+1}-x_n)^2}{x_{n+2} - 2x_{n+1} + x_n}$$.\n",
        "\n",
        "**Problema:** La secuencencia $\\{x_n\\}$ generada por la iteración de punto fijo $g(x) = \\ln(x) + 2$ y partiendo desde $x_0=3.14$ converge linealmente a $p\\approx 3.1419322$. Apicar el método de Aitken para encontrar $q_1$, $q_2$ y $q_3$ y de esta forma acelerar la convergencia."
      ],
      "metadata": {
        "id": "XZ5NlLXu_jkk"
      }
    },
    {
      "cell_type": "code",
      "execution_count": null,
      "metadata": {
        "id": "yvkTB97geYau"
      },
      "outputs": [],
      "source": [
        ""
      ]
    },
    {
      "cell_type": "markdown",
      "source": [
        "#3.- Problema de Aplicación:\n",
        "\n",
        "Un problema clásico de la física elemental es el lanzamiento de un proyectil. Suponiendo que se dispara un proyectil desde el origen con un ángulo $\\alpha$ y velocidad inicial $v_0$. La ecuación de movimiento horizontal y vertical de la trayectoria del proyectil, al considerar una resistencia del aire proporcional a la velocidad, viene determinado por el siguiente modelo:\n",
        "\n",
        "$$\n",
        "  \\begin{array}{cl}\n",
        " y(t) &= (Cv_y+9.8C^2)\\left(1-e^{-t/C}\\right)-9.8Ct\\\\\n",
        " x(t) &= Cv_x\\left(1-e^{-t/C}\\right)\n",
        " \\end{array}\n",
        "$$\n",
        "\n",
        "donde $C=m/\\kappa$, $\\kappa$ es el coeficiente de resitencia del aire y $m$ es la masa del proyectil. Además $v_x=v_0 \\cos(\\alpha)$ y $v_y=v_0 \\sin(\\alpha)$.\n",
        "\n",
        "Se dispara el proyectil con un ángulo de elevación de $60°$, velocidades iniciales $v_0=100 [m/s]$ y $C=10$. Determinar el tiempo transcurrido hasta el impacto en el suelo y el alcance del lanzamiento. "
      ],
      "metadata": {
        "id": "EKLY0KsADFn-"
      }
    },
    {
      "cell_type": "markdown",
      "source": [
        "- 3.1. Graficar la trayectoria del proyectil"
      ],
      "metadata": {
        "id": "fh0PpGE0HzMf"
      }
    },
    {
      "cell_type": "code",
      "execution_count": null,
      "metadata": {
        "id": "ENTRX3iTeYay"
      },
      "outputs": [],
      "source": [
        ""
      ]
    },
    {
      "cell_type": "markdown",
      "source": [
        "- 3.2. Utilizar un método numérico (toolbox) con punto inicial $p_0=14$ y obtener una solución. . Indicar cuántos dígitos significativos tiene la solución."
      ],
      "metadata": {
        "id": "s6Fz4fDaH6MF"
      }
    },
    {
      "cell_type": "code",
      "execution_count": null,
      "metadata": {
        "id": "ACzscmuOeYa_"
      },
      "outputs": [],
      "source": [
        ""
      ]
    },
    {
      "cell_type": "markdown",
      "source": [
        "- 3.3 Aplicar el método de Newton y obtener una solución. Indicar cuántos dígitos significativos tiene la solución."
      ],
      "metadata": {
        "id": "wB2II_fKIJP0"
      }
    },
    {
      "cell_type": "code",
      "execution_count": null,
      "metadata": {
        "id": "PQ5udqrkeYbJ"
      },
      "outputs": [],
      "source": [
        ""
      ]
    }
  ],
  "metadata": {
    "kernelspec": {
      "display_name": "Python 3",
      "language": "python",
      "name": "python3"
    },
    "language_info": {
      "codemirror_mode": {
        "name": "ipython",
        "version": 3
      },
      "file_extension": ".py",
      "mimetype": "text/x-python",
      "name": "python",
      "nbconvert_exporter": "python",
      "pygments_lexer": "ipython3",
      "version": "3.8.5"
    },
    "colab": {
      "name": "2022 - EC - Tarea 2 - Estadística Computacional.ipynb",
      "provenance": []
    }
  },
  "nbformat": 4,
  "nbformat_minor": 0
}