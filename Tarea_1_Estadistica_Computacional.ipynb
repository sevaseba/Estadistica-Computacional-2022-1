{
 "cells": [
  {
   "cell_type": "markdown",
   "metadata": {
    "id": "AHwh8pEKeYYz"
   },
   "source": [
    "# Tarea 1 - Estadística Computacional\n",
    "\n",
    "- Nombre: Sebastián Jara Cifuentes\n",
    "\n",
    "Curso: Estadística Computacional\n",
    "\n",
    "Doctorado en Estadística\n",
    "\n",
    "\n",
    "Responda las preguntas que se indican colocando el código requerido. El Notebook se entrega totalmente ejecutado."
   ]
  },
  {
   "cell_type": "markdown",
   "metadata": {
    "id": "hJSM7VpweYZM"
   },
   "source": [
    "**Ingrese los Toolbox que se utilizarán en este Jupyter**"
   ]
  },
  {
   "cell_type": "code",
   "execution_count": 185,
   "metadata": {
    "id": "PtEZppw_eYZN"
   },
   "outputs": [],
   "source": [
    "import copy"
   ]
  },
  {
   "cell_type": "markdown",
   "metadata": {
    "id": "5KkNh4CReYZP"
   },
   "source": [
    "## 1. Indicadores estadísticos.\n",
    "\n",
    "En estadística, en muchas ocasiones se requiere implementar indicadores o estadísticos. En esta pregunta deberá implementar los siguientes indicadores:"
   ]
  },
  {
   "cell_type": "markdown",
   "metadata": {
    "id": "whUAjuMCeYah"
   },
   "source": [
    "1. **Symmetric mean absolute percentage error (SMAPE or sMAPE)**: es una medida de precisión basada en errores porcentuales (o relativos).\n",
    "\n",
    "$$sMAPE = \\frac{100\\%}{n}\\sum_{t=1}^n \\frac{|F_t-A_t|}{(|A_t|+|F_t|)/2}$$\n",
    "\n",
    "donde $A_t$ es el valor real y $F_t$ es el valor de pronóstico.\n",
    "\n",
    "Implementar la Función sMAPE:"
   ]
  },
  {
   "cell_type": "code",
   "execution_count": 186,
   "metadata": {
    "id": "MZPv0VUZeYai"
   },
   "outputs": [],
   "source": [
    "def sMAPE(valor_previsto,valor_real):\n",
    "    n = len(valor_previsto)\n",
    "    S = 0\n",
    "    for i in range(0,n):\n",
    "        S = S + (2*abs(valor_previsto[i]-valor_real[i]))/(abs(valor_previsto[i]) + abs(valor_real[i]))        \n",
    "    return print(\"El valor sMAPE es:\", (S*100)/n, \"%\") \n"
   ]
  },
  {
   "cell_type": "markdown",
   "metadata": {
    "id": "1pnM7aC4eYaj"
   },
   "source": [
    "Aplicar la función sMAPE de las siguientes listas:\n",
    "\n",
    "Dato = { 1.5 ,  2.89, -0.08, -2.93, -1.35,  2.26,  2.47, -1.05, -2.98,\n",
    "       -0.41,  2.78,  1.78, -1.91, -2.71,  0.58,  3.  ,  0.9 , -2.56,\n",
    "       -2.15,  1.5 }\n",
    "       \n",
    "Predicción = { 3.58,  4.3 ,  0.5 , -3.11, -1.94,  3.71,  1.56, -1.55, -2.77,\n",
    "       -0.51,  2.93,  2.14, -1.76, -1.96, -0.51,  2.96, -0.34, -3.33,\n",
    "       -3.49,  1.5}\n"
   ]
  },
  {
   "cell_type": "code",
   "execution_count": 187,
   "metadata": {
    "id": "Z1CM8opKeYal"
   },
   "outputs": [
    {
     "name": "stdout",
     "output_type": "stream",
     "text": [
      "El valor sMAPE es: 53.15507816129964 %\n"
     ]
    }
   ],
   "source": [
    "Dato = [1.5 , 2.89, -0.08, -2.93, -1.35, 2.26, 2.47, -1.05, -2.98, -0.41, 2.78, 1.78, -1.91, -2.71, 0.58, 3. , 0.9 , -2.56, -2.15, 1.5]\n",
    "Prediccion = [3.58, 4.3 , 0.5 , -3.11, -1.94, 3.71, 1.56, -1.55, -2.77, -0.51, 2.93, 2.14, -1.76, -1.96, -0.51, 2.96, -0.34, -3.33, -3.49, 1.5 ]\n",
    "\n",
    "sMAPE(Dato, Prediccion)"
   ]
  },
  {
   "cell_type": "markdown",
   "metadata": {
    "id": "Cp6TpBnheYan"
   },
   "source": [
    "2. **Coeficiente de correlación de Spearman ($\\rho$)**: es una medida de la correlación (la asociación o interdependencia) entre dos variables aleatorias (tanto continuas como discretas). Para calcular $\\rho$, los datos son ordenados y reemplazados por su respectivo orden.\n",
    "\n",
    "El estadístico está dado por:\n",
    "\n",
    "$$\\rho = 1 - \\frac{6\\sum_i D_{(i)}^2}{N(N^2-1)}$$\n",
    "\n",
    "donde $D_{(i)}$ es la diferencia entre los correspondientes estadísticos de orden de $x$ e $y$. $N$ es el número de parejas de datos.\n"
   ]
  },
  {
   "cell_type": "code",
   "execution_count": 204,
   "metadata": {},
   "outputs": [],
   "source": [
    "def ordenar(data):  #funcion que ordena de menor a mayor los datos de la lista\n",
    "    for i in range(0,len(data)):   \n",
    "        for j in range(0,len(data)):\n",
    "            if data[i][:] < data[j][:]:\n",
    "                 data[j][:], data[i][:] = data[i][:] , data[j][:]  \n",
    "    return data \n",
    "\n",
    "def Spearman(datos, prediccion):\n",
    "    datos_jerarquia = [[0 for col in range(2)] for row in range(len(datos))] \n",
    "    prediccion_jerarquia = [[0 for col in range(2)] for row in range(len(datos))] \n",
    "\n",
    "    for i in range(0,len(datos)):\n",
    "        datos_jerarquia[i][0]=datos[i]\n",
    "        datos_jerarquia[i][1]=i\n",
    "        prediccion_jerarquia[i][0]=prediccion[i]\n",
    "        prediccion_jerarquia[i][1]=i\n",
    "        \n",
    "    datos = copy.deepcopy(datos_jerarquia)\n",
    "    datos1 = copy.deepcopy(prediccion_jerarquia)\n",
    "\n",
    "    for x in datos_jerarquia :\n",
    "        for y in ordenar(datos):\n",
    "            if x == y:\n",
    "                x[1] = ordenar(datos).index(y)\n",
    "            \n",
    "    for x in prediccion_jerarquia :\n",
    "        for y in ordenar(datos1):\n",
    "            if x == y:\n",
    "                x[1] = ordenar(datos1).index(y)\n",
    "\n",
    "    d = 0\n",
    "    for x,y in zip(datos_jerarquia,prediccion_jerarquia):\n",
    "        d = d + (x[1]-y[1])**2\n",
    "        \n",
    "    return print(\"El rango de Spearman es: \", 1 - (6*d)/(len(datos_jerarquia)*(len(datos_jerarquia)**2 -1 )))\n"
   ]
  },
  {
   "cell_type": "markdown",
   "metadata": {
    "id": "EIcwkqHCeYax"
   },
   "source": [
    "Calcular el coeficiente de correlación de Spearman para los siguientes datos:\n",
    "    \n",
    "Dato = { 1.5 ,  2.89, -0.08, -2.93, -1.35,  2.26,  2.47, -1.05, -2.98,\n",
    "       -0.41,  2.78,  1.78, -1.91, -2.71,  0.58,  3.  ,  0.9 , -2.56,\n",
    "       -2.15,  1.5 }\n",
    "       \n",
    "Predicción = { 3.58,  4.3 ,  0.5 , -3.11, -1.94,  3.71,  1.56, -1.55, -2.77,\n",
    "       -0.51,  2.93,  2.14, -1.76, -1.96, -0.51,  2.96, -0.34, -3.33,\n",
    "       -3.49,  1.5}"
   ]
  },
  {
   "cell_type": "code",
   "execution_count": 205,
   "metadata": {
    "id": "ENTRX3iTeYay"
   },
   "outputs": [
    {
     "name": "stdout",
     "output_type": "stream",
     "text": [
      "El rango de Spearman es:  0.924812030075188\n"
     ]
    }
   ],
   "source": [
    "Spearman([1.5 , 2.89, -0.08, -2.93, -1.35, 2.26, 2.47, -1.05, -2.98, -0.41, 2.78, 1.78, -1.91, -2.71, 0.58, 3. , 0.9 , -2.56, -2.15, 1.5], [3.58, 4.3 , 0.5 , -3.11, -1.94, 3.71, 1.56, -1.55, -2.77, -0.51, 2.93, 2.14, -1.76, -1.96, -0.51, 2.96, -0.34, -3.33, -3.49, 1.5])\n"
   ]
  },
  {
   "cell_type": "markdown",
   "metadata": {
    "id": "isWmCc2ReYaz"
   },
   "source": [
    "3. **Coeficiente de Gini:** es una medida de la desigualdad. El coeficiente de Gini es un número entre 0 y 1, en donde 0 se corresponde con la perfecta igualdad (todos tienen los mismos ingresos) y donde el valor 1 se corresponde con la perfecta desigualdad. Para obtener el coeficiente de Gini, en general se utiliza la fórmula de Brown:\n",
    "\n",
    "$$G = \\left|1 - \\sum_{k=1}^{n-1} (X_{k+1}-X_k)(Y_{k+1}+Y_k)\\right|$$\n",
    "\n",
    "donde $X$ e $Y$ corresponden a la proporción acumulada de las variables.\n",
    "\n",
    "Implementar la función que calcule el coeficiente de Gini.\n"
   ]
  },
  {
   "cell_type": "code",
   "execution_count": 190,
   "metadata": {
    "id": "xPQa6UFIeYaz"
   },
   "outputs": [],
   "source": [
    "def Gini(acumulada_X,acumulada_Y):\n",
    "    n = len(acumulada_X)\n",
    "    S = 0\n",
    "    for i in range(0,n-1):\n",
    "        S = S + (acumulada_X[i+1] - acumulada_X[i])*(acumulada_Y[i+1] - acumulada_Y[i])\n",
    "    return abs(1 - S)"
   ]
  },
  {
   "cell_type": "markdown",
   "metadata": {
    "id": "7YQnfOjyeYa0"
   },
   "source": [
    "Obtener el coeficiente de Gini para las siguientes dos proporciones:\n",
    "\n",
    "| Variables Acumuladas| Clase 1 | Clase 2 | Clase 3 | Clase 4 | Clase 5 |\n",
    "| --- | --- | --- | --- | --- | --- |\n",
    "| X | 0.09 | 0.33 | 0.45 | 0.78 | 1 |\n",
    "| Y | 0.17 | 0.48 | 0.62 | 0.86 | 1 |\n",
    "\n"
   ]
  },
  {
   "cell_type": "code",
   "execution_count": 191,
   "metadata": {
    "id": "OBGzGDcteYa3"
   },
   "outputs": [
    {
     "data": {
      "text/plain": [
       "0.7988"
      ]
     },
     "execution_count": 191,
     "metadata": {},
     "output_type": "execute_result"
    }
   ],
   "source": [
    "Gini([0.09,0.33,0.45,0.78,1],[0.17,0.48,0.62,0.86,1])"
   ]
  },
  {
   "cell_type": "markdown",
   "metadata": {
    "id": "ZbsjvoX9eYa4"
   },
   "source": [
    "## 2. Algoritmos"
   ]
  },
  {
   "cell_type": "markdown",
   "metadata": {
    "id": "1RC26f0LeYa6"
   },
   "source": [
    "1. Dado dos conjuntos de datos ordenados y de tamaños diferentes, realizar una función que mezcle ambos conjunto y genere un nuevo conjunto con todos los datos ordenados."
   ]
  },
  {
   "cell_type": "code",
   "execution_count": 192,
   "metadata": {
    "id": "ACzscmuOeYa_"
   },
   "outputs": [],
   "source": [
    "def Mezcla_ordenada(conjunto1, conjunto2):\n",
    "    lista1 = list(conjunto1)\n",
    "    lista2 = list(conjunto2)\n",
    "    lista1.extend(lista2)\n",
    "    lista1.sort()\n",
    "    return set(lista1)"
   ]
  },
  {
   "cell_type": "markdown",
   "metadata": {
    "id": "6xUdjLZ9eYbA"
   },
   "source": [
    "Aplicar el algoritmo para mezclar y ordenar los siguientes conjuntos:\n",
    "\n",
    "$$D_1 = \\{5, 7, 15, 23, 45, 72, 83\\}$$\n",
    "\n",
    "$$D_2= \\{1, 2, 6, 29, 37, 75, 100, 110, 115, 117\\}$$"
   ]
  },
  {
   "cell_type": "code",
   "execution_count": 193,
   "metadata": {
    "id": "GX0SrIj-eYbH"
   },
   "outputs": [
    {
     "data": {
      "text/plain": [
       "{1, 2, 5, 6, 7, 15, 23, 29, 37, 45, 72, 75, 83, 100, 110, 115, 117}"
      ]
     },
     "execution_count": 193,
     "metadata": {},
     "output_type": "execute_result"
    }
   ],
   "source": [
    "Mezcla_ordenada({5, 7, 15, 23, 45, 72, 83},{1, 2, 6, 29, 37, 75, 100, 110, 115, 117})"
   ]
  },
  {
   "cell_type": "markdown",
   "metadata": {
    "id": "9ApSqhGteYbH"
   },
   "source": [
    "2. La equivalencia de los símbolos básicos de los números romanos es la siguiente:\n",
    "\n",
    "|Número Romano | I | V | X | L | C | D | M |\n",
    "| --- | --- | --- | --- | --- | --- | --- | --- |\n",
    "|Número decimal| 1 | 5 | 10 | 50 | 100 | 500 | 1000 |\n",
    "\n",
    "Los enteros romanos se escriben de acuerdo a las siguientes reglas:\n",
    "\n",
    "- Si una letra está seguida inmediatamente por una de igual o menor valor, su valor se suma al total acumulado. Así, XX = 20, XV = 15 y VI = 6.\n",
    "- Si una letra está seguida inmediatamente por una de mayor valor, su valor se sustrae del total acumulado. Así, IV = 4, XL = 40 y CM = 900.\n",
    "\n",
    "Escriba la función que reciba un string con un número en notación romana, y entregue el entero equivalente:"
   ]
  },
  {
   "cell_type": "code",
   "execution_count": 194,
   "metadata": {
    "id": "PQ5udqrkeYbJ"
   },
   "outputs": [],
   "source": [
    "def Convertor_Rom_Int(numeroRomano):\n",
    "    L = [['I',1], ['V',5],['X',10],['L',50],\n",
    "         ['C',100], ['D',500], ['M',1000]]\n",
    "    a = numeroRomano[0]\n",
    "    b = numeroRomano[1] \n",
    "    for i in range(len(L)):\n",
    "        if a == L[i][0]:\n",
    "            a_num = L[i][1]\n",
    "        if b == L[i][0]:\n",
    "            b_num = L[i][1]\n",
    "    if a_num >= b_num:\n",
    "        print('El número romano corresponde al entero: ', a_num + b_num)\n",
    "    else:\n",
    "        print('El número romano corresponde al entero: ', b_num - a_num)\n",
    "    return \n",
    "    "
   ]
  },
  {
   "cell_type": "code",
   "execution_count": 195,
   "metadata": {},
   "outputs": [
    {
     "name": "stdout",
     "output_type": "stream",
     "text": [
      "El número romano corresponde al entero:  4\n"
     ]
    }
   ],
   "source": [
    "Convertor_Rom_Int('IV')"
   ]
  },
  {
   "cell_type": "markdown",
   "metadata": {
    "id": "8O350tvEeYbJ"
   },
   "source": [
    "## 3. Algoritmos en Series de Tiempo\n",
    "\n",
    "Una serie de tiempo es una secuencia de valores numéricos obtenidos a intervalos de tiempos regulares.\n",
    "\n",
    "$$X=\\{x_1, x_2,....., x_t, ..., x_T\\}$$"
   ]
  },
  {
   "cell_type": "markdown",
   "metadata": {
    "id": "_0S7HkIqeYbM"
   },
   "source": [
    "1. Las medias móviles con retardo $p$ de una serie de tiempo son las secuencia de todos los promedios de $p$ valores consecutivos de la serie. Realizar una función que retorne el arreglo de las medias móviles con retardo $p$ de la serie."
   ]
  },
  {
   "cell_type": "code",
   "execution_count": 196,
   "metadata": {
    "id": "xYXaftAqeYbN"
   },
   "outputs": [],
   "source": [
    "def Med_movil(a, p):\n",
    "    D = []\n",
    "    for i in range(0,len(a)-2):\n",
    "        D.append(round((a[i]+a[i+1]+a[i+2])*(1/3),2))\n",
    "    return print('La media móvil con retardo', p ,'es:' , D)"
   ]
  },
  {
   "cell_type": "markdown",
   "metadata": {
    "id": "iptJ5capeYbQ"
   },
   "source": [
    "Aplicar la función a los siguientes datos:\n",
    "\n",
    "Dato = { 1.5 ,  2.89, -0.08, -2.93, -1.35,  2.26,  2.47, -1.05, -2.98,\n",
    "       -0.41,  2.78,  1.78, -1.91, -2.71,  0.58,  3.  ,  0.9 , -2.56,\n",
    "       -2.15,  1.5 }"
   ]
  },
  {
   "cell_type": "code",
   "execution_count": 197,
   "metadata": {},
   "outputs": [
    {
     "name": "stdout",
     "output_type": "stream",
     "text": [
      "La media móvil con retardo 3 es: [1.44, -0.04, -1.45, -0.67, 1.13, 1.23, -0.52, -1.48, -0.2, 1.38, 0.88, -0.95, -1.35, 0.29, 1.49, 0.45, -1.27, -1.07]\n"
     ]
    }
   ],
   "source": [
    "Med_movil([1.5 , 2.89, -0.08, -2.93, -1.35, 2.26, 2.47, -1.05, -2.98, -0.41, 2.78, 1.78, -1.91, -2.71, 0.58, 3. , 0.9 , -2.56, -2.15, 1.5],3)"
   ]
  },
  {
   "cell_type": "markdown",
   "metadata": {
    "id": "VBG-4QCTeYbS"
   },
   "source": [
    "2. Las diferencias finitas de una serie de tiempo son la secuencia de todas las diferencias entre un valor y el anterior. Escribir una función que retorne el arreglo de las diferencias finitas de la serie."
   ]
  },
  {
   "cell_type": "code",
   "execution_count": 198,
   "metadata": {
    "id": "Zcv80bZleYbV"
   },
   "outputs": [],
   "source": [
    "def Dif_finita(a):\n",
    "    D = []\n",
    "    for i in range(1,len(a)):\n",
    "        D.append(round(a[i]-a[i-1],2))\n",
    "    return print('La diferencia finita de la serie es: ', D)"
   ]
  },
  {
   "cell_type": "markdown",
   "metadata": {
    "id": "bCn1TZtfeYbY"
   },
   "source": [
    "Aplicar la función a los siguientes datos:\n",
    "\n",
    "Dato = { 1.5 ,  2.89, -0.08, -2.93, -1.35,  2.26,  2.47, -1.05, -2.98,\n",
    "       -0.41,  2.78,  1.78, -1.91, -2.71,  0.58,  3.  ,  0.9 , -2.56,\n",
    "       -2.15,  1.5 }"
   ]
  },
  {
   "cell_type": "code",
   "execution_count": 199,
   "metadata": {
    "id": "kanpWIbeeYbZ"
   },
   "outputs": [
    {
     "name": "stdout",
     "output_type": "stream",
     "text": [
      "La diferencia finita de la serie es:  [1.39, -2.97, -2.85, 1.58, 3.61, 0.21, -3.52, -1.93, 2.57, 3.19, -1.0, -3.69, -0.8, 3.29, 2.42, -2.1, -3.46, 0.41, 3.65]\n"
     ]
    }
   ],
   "source": [
    "Dif_finita([1.5 , 2.89, -0.08, -2.93, -1.35, 2.26, 2.47, -1.05, -2.98, -0.41, 2.78, 1.78, -1.91, -2.71, 0.58, 3. , 0.9 , -2.56, -2.15, 1.5])"
   ]
  },
  {
   "cell_type": "markdown",
   "metadata": {
    "id": "umMlatX3eYbd"
   },
   "source": [
    "3. En algunos métodos se requiere construir la matriz de rezagos de orden p. Esto es, dado la serie de tiempo:\n",
    "\n",
    "$$X=\\{x_1, x_2,....., x_t, ..., x_T\\}$$\n",
    "\n",
    "La matriz de rezagos de orden $p$ está dada por:\n",
    "\n",
    "$$M = \\left[\\begin{array}{cccccc}\n",
    "x_1 & x_2 & ... & x_p\\\\\n",
    "x_2 & x_3 & ... & x_{p+1}\\\\\n",
    "x_4 & x_5 & ... & x_{p+2}\\\\\n",
    "... & ... & ... & ...\\\\\n",
    "x_{T-p} & x_{T-p+1} & ... & x_{T-1}\\\\\n",
    "x_{T-p+1} & x_{T-p+2} & ... & x_{T}\\\\\n",
    "\\end{array}\n",
    "\\right]$$ \n",
    "\n",
    "Realizar una función que construya dicha estructura de datos."
   ]
  },
  {
   "cell_type": "code",
   "execution_count": 200,
   "metadata": {
    "id": "Gipibg-meYbl"
   },
   "outputs": [],
   "source": [
    "def Mat_rezagos(a,p):    \n",
    "    m = len(a) - p + 1\n",
    "    Rezagos = [[0 for col in range(p)] for row in range(m)]\n",
    "    for i in range(m):\n",
    "        for j in range(p):\n",
    "            Rezagos[i][j] = a[j+i]\n",
    "    return print('La matriz de Rezagos de orden', p ,'es:', Rezagos)"
   ]
  },
  {
   "cell_type": "markdown",
   "metadata": {
    "id": "JmJUX3XBeYbo"
   },
   "source": [
    "Aplicar la función a los siguientes datos:\n",
    "\n",
    "Dato = { 1.5 ,  2.89, -0.08, -2.93, -1.35,  2.26,  2.47, -1.05, -2.98,\n",
    "       -0.41,  2.78,  1.78, -1.91, -2.71,  0.58,  3.  ,  0.9 , -2.56,\n",
    "       -2.15,  1.5 }"
   ]
  },
  {
   "cell_type": "code",
   "execution_count": 201,
   "metadata": {},
   "outputs": [
    {
     "name": "stdout",
     "output_type": "stream",
     "text": [
      "La matriz de Rezagos de orden 3 es: [[1.5, 2.89, -0.08], [2.89, -0.08, -2.93], [-0.08, -2.93, -1.35], [-2.93, -1.35, 2.26], [-1.35, 2.26, 2.47], [2.26, 2.47, -1.05], [2.47, -1.05, -2.98], [-1.05, -2.98, -0.41], [-2.98, -0.41, 2.78], [-0.41, 2.78, 1.78], [2.78, 1.78, -1.91], [1.78, -1.91, -2.71], [-1.91, -2.71, 0.58], [-2.71, 0.58, 3.0], [0.58, 3.0, 0.9], [3.0, 0.9, -2.56], [0.9, -2.56, -2.15], [-2.56, -2.15, 1.5]]\n"
     ]
    }
   ],
   "source": [
    "Mat_rezagos([1.5 , 2.89, -0.08, -2.93, -1.35, 2.26, 2.47, -1.05, -2.98, -0.41, 2.78, 1.78, -1.91, -2.71, 0.58, 3. , 0.9 , -2.56, -2.15, 1.5 ],3)"
   ]
  },
  {
   "cell_type": "code",
   "execution_count": null,
   "metadata": {},
   "outputs": [],
   "source": []
  }
 ],
 "metadata": {
  "colab": {
   "collapsed_sections": [],
   "name": "Copia de 2022 - EC - Tarea 1 - Estadística Computacional.ipynb",
   "provenance": []
  },
  "kernelspec": {
   "display_name": "Python 3 (ipykernel)",
   "language": "python",
   "name": "python3"
  },
  "language_info": {
   "codemirror_mode": {
    "name": "ipython",
    "version": 3
   },
   "file_extension": ".py",
   "mimetype": "text/x-python",
   "name": "python",
   "nbconvert_exporter": "python",
   "pygments_lexer": "ipython3",
   "version": "3.9.7"
  }
 },
 "nbformat": 4,
 "nbformat_minor": 1
}
