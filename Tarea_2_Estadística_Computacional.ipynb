{
 "cells": [
  {
   "cell_type": "markdown",
   "metadata": {
    "id": "AHwh8pEKeYYz"
   },
   "source": [
    "# Tarea 2 - Estadística Computacional\n",
    "\n",
    "- Nombre: Sebastián Jara Cifuentes\n",
    "\n",
    "Curso: Estadística Computacional\n",
    "\n",
    "Doctorado en Estadística\n",
    "\n",
    "\n",
    "Responda las preguntas que se indican colocando el código requerido. El Notebook se entrega totalmente ejecutado."
   ]
  },
  {
   "cell_type": "markdown",
   "metadata": {
    "id": "hJSM7VpweYZM"
   },
   "source": [
    "**Ingrese los Toolbox que se utilizarán en este Jupyter**"
   ]
  },
  {
   "cell_type": "code",
   "execution_count": 410,
   "metadata": {
    "id": "PtEZppw_eYZN"
   },
   "outputs": [],
   "source": [
    "import time as time\n",
    "import numpy as np\n",
    "import matplotlib.pyplot as plt\n",
    "from scipy import optimize\n",
    "import pandas as pd\n"
   ]
  },
  {
   "cell_type": "markdown",
   "metadata": {
    "id": "5KkNh4CReYZP"
   },
   "source": [
    "## 1. Estudio de Algoritmos de Ordenamiento\n",
    "\n",
    "Realizar un estudio comparativo de los tiempos de ejecución requeridos por los algoritmos de ordenamientos, para ordernar listas de elementos con diferentes tamaños. El estudio debe considerar al menos 4 algoritmos de ordenamientos diferentes seleccionados por Ud."
   ]
  },
  {
   "cell_type": "markdown",
   "metadata": {
    "id": "rmlPckNH7RCF"
   },
   "source": [
    "**1.1.-** Implementar una función que genere una lista con $n$ números aleatorios en el rango $a$, $b$. Los parámetros $n, a, b$ son ingresados por el usuario."
   ]
  },
  {
   "cell_type": "code",
   "execution_count": 118,
   "metadata": {
    "id": "hyV0Orw-7OhK"
   },
   "outputs": [],
   "source": [
    "def ListRandom(n,a,b):\n",
    "    L = []\n",
    "    for i in range(n):\n",
    "        L.append(np.random.randint(a, b+1))\n",
    "    return L"
   ]
  },
  {
   "cell_type": "markdown",
   "metadata": {
    "id": "KRv8yoT47wc2"
   },
   "source": [
    "**1.2.-** Implementar al menos 4 funciones con algoritmos de ordenamientos diferentes"
   ]
  },
  {
   "cell_type": "markdown",
   "metadata": {},
   "source": [
    "***Primero algoritmo***"
   ]
  },
  {
   "cell_type": "code",
   "execution_count": 131,
   "metadata": {
    "id": "MZPv0VUZeYai"
   },
   "outputs": [],
   "source": [
    "def Ordenar1(datos):\n",
    "    comienzo = time.time()\n",
    "    for i in range(len(datos)):\n",
    "        for j in range(i+1,len(datos)):\n",
    "            if datos[i] > datos[j]:\n",
    "                datos[i], datos[j] = datos[j], datos[i]\n",
    "                #print(datos)\n",
    "    TiempoEjecucion = time.time() - comienzo \n",
    "    #print(TiempoEjecucion)\n",
    "    return TiempoEjecucion\n",
    "            "
   ]
  },
  {
   "cell_type": "markdown",
   "metadata": {},
   "source": [
    "***Segundo algoritmo***"
   ]
  },
  {
   "cell_type": "code",
   "execution_count": 141,
   "metadata": {},
   "outputs": [],
   "source": [
    "def bubbleSort(datos):\n",
    "    comienzo = time.time()\n",
    "    n = len(datos)\n",
    "    for i in range(n-1):\n",
    "        for j in range(0,n-i-1):\n",
    "            if datos[j] > datos[j+1]:\n",
    "                datos[j], datos[j+1] = datos[j+1], datos[j]\n",
    "    TiempoEjecucion = time.time() - comienzo \n",
    "    #print(TiempoEjecucion)\n",
    "    return TiempoEjecucion"
   ]
  },
  {
   "cell_type": "markdown",
   "metadata": {},
   "source": [
    "***Tercer algoritmo***"
   ]
  },
  {
   "cell_type": "code",
   "execution_count": 298,
   "metadata": {},
   "outputs": [],
   "source": [
    "def merge(arr, l, m, r):\n",
    "    n1 = m-l+1\n",
    "    n2 = r-m\n",
    "    \n",
    "    L = [0]*n1\n",
    "    R = [0]*n2\n",
    "    \n",
    "    for i in range(0,n1):\n",
    "        L[i] = arr[l+i]\n",
    "        \n",
    "    for j in range(0,n2):\n",
    "        R[j] = arr[m+1+j]\n",
    "    \n",
    "    i = 0\n",
    "    j = 0\n",
    "    k = l\n",
    "    \n",
    "    while i < n1 and j < n2:\n",
    "        if L[i] <= R[j]:\n",
    "            arr[k] = L[i]\n",
    "            i += 1\n",
    "        else:\n",
    "            arr[k]=R[j]\n",
    "            j += 1\n",
    "        k += 1\n",
    "    \n",
    "    while i < n1:\n",
    "        arr[k] = L[i]\n",
    "        i += 1\n",
    "        k += 1\n",
    "    \n",
    "    while j < n2:\n",
    "        arr[k] = R[j]\n",
    "        j += 1\n",
    "        k += 1\n",
    "    \n",
    "    \n",
    "def mergeSort(arr, l, r):\n",
    "    comienzo = time.time()\n",
    "    if l < r:\n",
    "        m = l + (r-l)//2\n",
    "        mergeSort(arr,l,m)\n",
    "        mergeSort(arr, m+1, r)\n",
    "        merge(arr,l,m,r)\n",
    "    TiempoEjecucion = time.time() - comienzo\n",
    "    return TiempoEjecucion"
   ]
  },
  {
   "cell_type": "markdown",
   "metadata": {
    "id": "WHpkXJJC784X"
   },
   "source": [
    "**1.3.-** Calcular los tiempos de ejecución requeridos por los métodos para ordenar listas aleatorias de elementos con $n= 10, 100, 1000, 10000, 100000$ elementos.  "
   ]
  },
  {
   "cell_type": "markdown",
   "metadata": {},
   "source": [
    "***Primer Algoritmo***: Tiempos de Ejecución"
   ]
  },
  {
   "cell_type": "code",
   "execution_count": 134,
   "metadata": {},
   "outputs": [
    {
     "name": "stdout",
     "output_type": "stream",
     "text": [
      "[1.2874603271484375e-05, 0.0009751319885253906, 0.09798097610473633, 8.355257987976074, 1073.6002581119537]\n"
     ]
    }
   ],
   "source": [
    "lista_n = [10,100,1000,10000,100000]\n",
    "tiempos = []\n",
    "for i in lista_n:\n",
    "    tiempos.append(Ordenar1( ListRandom(i,1,i) ))\n",
    "print(tiempos)    "
   ]
  },
  {
   "cell_type": "markdown",
   "metadata": {},
   "source": [
    "***Segundo Algoritmo***: Tiempos de Ejecución"
   ]
  },
  {
   "cell_type": "code",
   "execution_count": 142,
   "metadata": {},
   "outputs": [
    {
     "name": "stdout",
     "output_type": "stream",
     "text": [
      "[2.7894973754882812e-05, 0.001264333724975586, 0.13997793197631836, 12.740594863891602, 1638.4317481517792]\n"
     ]
    }
   ],
   "source": [
    "lista_n = [10,100,1000,10000,100000]\n",
    "tiempos2 = []\n",
    "for i in lista_n:\n",
    "    tiempos2.append(bubbleSort(ListRandom(i,1,i)))\n",
    "print(tiempos2)\n",
    "    "
   ]
  },
  {
   "cell_type": "markdown",
   "metadata": {},
   "source": [
    "***Tercer Algoritmo***: Tiempos de Ejecución"
   ]
  },
  {
   "cell_type": "code",
   "execution_count": 301,
   "metadata": {},
   "outputs": [
    {
     "name": "stdout",
     "output_type": "stream",
     "text": [
      "[4.506111145019531e-05, 0.0004982948303222656, 0.008529901504516602, 0.07907891273498535, 0.9680769443511963]\n"
     ]
    }
   ],
   "source": [
    "lista_n = [10,100,1000,10000,100000]\n",
    "tiempos3 = []\n",
    "for i in lista_n:\n",
    "    tiempos3.append(mergeSort(ListRandom(i,1,i),0, len(ListRandom(i,1,i)) - 1))    \n",
    "print(tiempos3)"
   ]
  },
  {
   "cell_type": "markdown",
   "metadata": {
    "id": "HKfkfX618URH"
   },
   "source": [
    "**1.4.-** Colcar una tabla comparativa con los resultados, además de un gráfico de $n$ vs $tiempo$."
   ]
  },
  {
   "cell_type": "markdown",
   "metadata": {},
   "source": [
    "La siguiente tabla muestra los tiempos de ejecución v/s el tamaño del conjunto que ha sido ordenado"
   ]
  },
  {
   "cell_type": "code",
   "execution_count": 413,
   "metadata": {
    "id": "nBm1Xopk8Tsy"
   },
   "outputs": [
    {
     "name": "stdout",
     "output_type": "stream",
     "text": [
      "  Tamaños  Algoritmo Ordenar1  Algoritmo BubbleSort  Algoritmo MergeSort\n",
      "0      10            0.000013              0.000028             0.000045\n",
      "1     100            0.000975              0.001264             0.000498\n",
      "2    1000            0.097981              0.139978             0.008530\n",
      "3   10000            8.355258             12.740595             0.079079\n",
      "4  100000         1073.600258           1638.431748             0.968077\n"
     ]
    }
   ],
   "source": [
    "d = [ [\"10\", 1.2874603271484375e-05, 2.7894973754882812e-05, 4.506111145019531e-05],\n",
    "     [\"100\", 0.0009751319885253906, 0.001264333724975586, 0.0004982948303222656],\n",
    "     [\"1000\", 0.09798097610473633, 0.13997793197631836, 0.008529901504516602 ],\n",
    "    [\"10000\", 8.355257987976074, 12.740594863891602, 0.07907891273498535],\n",
    "    [\"100000\", 1073.6002581119537, 1638.4317481517792, 0.9680769443511963]]\n",
    "\n",
    "df = pd.DataFrame(d, columns = ['Tamaños','Algoritmo Ordenar1','Algoritmo BubbleSort', 'Algoritmo MergeSort'])\n",
    "print(df)"
   ]
  },
  {
   "cell_type": "code",
   "execution_count": 403,
   "metadata": {
    "id": "Z1CM8opKeYal"
   },
   "outputs": [
    {
     "data": {
      "image/png": "[encoded data removed]",
      "text/plain": [
       "<Figure size 432x288 with 1 Axes>"
      ]
     },
     "metadata": {
      "needs_background": "light"
     },
     "output_type": "display_data"
    }
   ],
   "source": [
    "#Comparación n v/s tiempo\n",
    "\n",
    "fig, ax = plt.subplots()\n",
    "plt.title('Gráfica comparativa (tamaño $10^{n+1}$)', fontsize=16)\n",
    "ax.plot( tiempos, 'r.-', label = 'Algoritmo Ordenar1', )\n",
    "ax.plot( tiempos2, 'g.-', label = 'Algoritmo BubbleSort', )\n",
    "ax.plot( tiempos3, 'b.-', label = 'Algoritmo MergeSort', )\n",
    "ax.legend(loc = 'upper left')\n",
    "#ax.ticklabel_format(style= 'sci',scilimits=(-3,4),axis='both')\n",
    "\n",
    "\n",
    "\n",
    "plt.xlabel(\"n\", fontsize=16 )\n",
    "plt.ylabel(\"tiempo [seg]\", fontsize=16)\n",
    "\n",
    "plt.grid()\n"
   ]
  },
  {
   "cell_type": "markdown",
   "metadata": {
    "id": "v7T1zmaO8k0m"
   },
   "source": [
    "**Concluir:** \n",
    "Los tres métodos se comportaron de manera similar para tamaños de orden 10000. Sin embargo, MergSort mostró ser el método mas eficiente para ordenar una lista de tamaño 100000."
   ]
  },
  {
   "cell_type": "markdown",
   "metadata": {
    "id": "EBWxhtFX8qt5"
   },
   "source": [
    "## 2. Métodos Numéricos"
   ]
  },
  {
   "cell_type": "markdown",
   "metadata": {
    "id": "HaygfRjb8qQb"
   },
   "source": [
    "**2.1.** Implementar el método de Halley cuya ecuación de iteración está dada por:\n",
    "\n",
    "$$g(x) = x - \\frac{f(x)}{f'(x)}\\left(1 - \\frac{f(x)\\cdot f''(x)}{2(f'(x))^2} \\right)^{-1}$$\n",
    "\n",
    "Una vez implementada la función, aplicarla para resolver la ecuación:\n",
    "\n",
    "$$f(x) = x^3 -3x + 2$$\n",
    "\n",
    "con punto de partida $x_0=2.4$."
   ]
  },
  {
   "cell_type": "markdown",
   "metadata": {
    "id": "ngZ_Va748rAn"
   },
   "source": [
    "***Solución***: La formula presentada puede reescribirse como\n",
    "\n",
    "$$g(x) = x - \\dfrac{2\\,f(x)\\, f'(x)}{ 2 (f'(x))^2 - f(x)\\, f''(x)}$$\n",
    "\n",
    "Además $f'(x)=3x^2-3$ y $f''(x)=6x$"
   ]
  },
  {
   "cell_type": "code",
   "execution_count": 143,
   "metadata": {},
   "outputs": [],
   "source": [
    "def f_test(x):\n",
    "    return x**3 - 3*x + 2\n",
    "\n",
    "def df_test(x):\n",
    "    return 3*x**2 - 3\n",
    "\n",
    "def ddf_test(x):\n",
    "    return 6*x"
   ]
  },
  {
   "cell_type": "code",
   "execution_count": 146,
   "metadata": {},
   "outputs": [],
   "source": [
    "def Halley(f, df, ddf, x0, tol = 10**(-8)):\n",
    "    fm = f(x0)\n",
    "    x = x0\n",
    "    k = 0 \n",
    "    while np.abs(fm) > tol:\n",
    "        x = x - (2*f(x)*df(x))/(2*(df(x))**2 - f(x)*ddf(x))\n",
    "        fm = f(x)\n",
    "        k +=1\n",
    "        if k > 1000:\n",
    "            print('no converge')\n",
    "            break\n",
    "    print('cantidad de iteraciones:', k)\n",
    "    return x"
   ]
  },
  {
   "cell_type": "code",
   "execution_count": 147,
   "metadata": {},
   "outputs": [
    {
     "name": "stdout",
     "output_type": "stream",
     "text": [
      "cantidad de iteraciones: 10\n"
     ]
    },
    {
     "data": {
      "text/plain": [
       "1.000029520637295"
      ]
     },
     "execution_count": 147,
     "metadata": {},
     "output_type": "execute_result"
    }
   ],
   "source": [
    "Halley(f_test, df_test, ddf_test, 2.4)"
   ]
  },
  {
   "cell_type": "markdown",
   "metadata": {
    "id": "XZ5NlLXu_jkk"
   },
   "source": [
    "**2.2** El proceso de aceleración de Aitken se utiliza para acelerar el proceso de convergencia de los algoritmos con convergencia lineal.\n",
    "\n",
    "Dada una secuencia $\\{x_n\\}_{n=0}^{\\infty}$ que converge linealmente a $p$, entonces el proceso de Aitken está dada por:\n",
    "\n",
    "$$q_{n} = x_n - \\frac{(x_{n-1}-x_n)^2}{x_{n-2} - 2x_{n-1} + x_n}$$.\n",
    "\n",
    "**Problema:** La secuencencia $\\{x_n\\}$ generada por la iteración de punto fijo $g(x) = \\ln(x) + 2$ y partiendo desde $x_0=3.14$ converge linealmente a $p\\approx 3.1419322$. Apicar el método de Aitken para encontrar $q_1$, $q_2$ y $q_3$ y de esta forma acelerar la convergencia."
   ]
  },
  {
   "cell_type": "code",
   "execution_count": 167,
   "metadata": {
    "id": "yvkTB97geYau"
   },
   "outputs": [],
   "source": [
    "def funciong(x):\n",
    "    return np.log(x) + 2\n",
    "\n",
    "\n",
    "suc = []\n",
    "def Puntofijo(g, x0, tol = 10**(-8)):\n",
    "    \n",
    "    suc.append(x0)\n",
    "    x = x0\n",
    "    fm = np.abs(g(x)-x)\n",
    "    k = 0\n",
    "    while np.abs(fm) > tol:\n",
    "        x = g(x)\n",
    "        fm = np.abs(g(x)-x)\n",
    "        suc.append(x)  #guarda la sucesión de iteraciones hacia la solución\n",
    "        k +=1\n",
    "        if k > 1000:\n",
    "            print('no converge')\n",
    "            break\n",
    "    print('cantidad de iteraciones:', k)\n",
    "    print(suc)\n",
    "    return x"
   ]
  },
  {
   "cell_type": "code",
   "execution_count": 168,
   "metadata": {},
   "outputs": [
    {
     "name": "stdout",
     "output_type": "stream",
     "text": [
      "cantidad de iteraciones: 12\n",
      "[3.14, 3.144222799920162, 3.145566737170702, 3.1459940765158634, 3.146129921772223, 3.146173101231629, 3.1461868257643633, 3.1461911880490687, 3.1461925745788335, 3.1461930152797883, 3.146193155354152, 3.1461931998760106, 3.146193214027036]\n"
     ]
    },
    {
     "data": {
      "text/plain": [
       "3.146193214027036"
      ]
     },
     "execution_count": 168,
     "metadata": {},
     "output_type": "execute_result"
    }
   ],
   "source": [
    "Puntofijo(funciong, 3.14)"
   ]
  },
  {
   "cell_type": "code",
   "execution_count": 180,
   "metadata": {},
   "outputs": [
    {
     "name": "stdout",
     "output_type": "stream",
     "text": [
      "[3.146194126365903, 3.1461933120965377, 3.146193229861081]\n"
     ]
    }
   ],
   "source": [
    "q = []\n",
    "for i in [2,3,4]:\n",
    "    q.append(suc[i] - ((suc[i-1]-suc[i])**2)/(suc[i-2] - 2*suc[i-1] + suc[i]))\n",
    "print(q)  #Los primeros tres términos que aceleran la convergencia"
   ]
  },
  {
   "cell_type": "markdown",
   "metadata": {
    "id": "EKLY0KsADFn-"
   },
   "source": [
    "## 3.- Problema de Aplicación:\n",
    "\n",
    "Un problema clásico de la física elemental es el lanzamiento de un proyectil. Suponiendo que se dispara un proyectil desde el origen con un ángulo $\\alpha$ y velocidad inicial $v_0$. La ecuación de movimiento horizontal y vertical de la trayectoria del proyectil, al considerar una resistencia del aire proporcional a la velocidad, viene determinado por el siguiente modelo:\n",
    "\n",
    "$$\n",
    "  \\begin{array}{cl}\n",
    " y(t) &= (Cv_y+9.8C^2)\\left(1-e^{-t/C}\\right)-9.8Ct\\\\\n",
    " x(t) &= Cv_x\\left(1-e^{-t/C}\\right)\n",
    " \\end{array}\n",
    "$$\n",
    "\n",
    "donde $C=m/\\kappa$, $\\kappa$ es el coeficiente de resitencia del aire y $m$ es la masa del proyectil. Además $v_x=v_0 \\cos(\\alpha)$ y $v_y=v_0 \\sin(\\alpha)$.\n",
    "\n",
    "Se dispara el proyectil con un ángulo de elevación de $60°$, velocidades iniciales $v_0=100 [m/s]$ y $C=10$. Determinar el tiempo transcurrido hasta el impacto en el suelo y el alcance del lanzamiento. "
   ]
  },
  {
   "cell_type": "markdown",
   "metadata": {
    "id": "fh0PpGE0HzMf"
   },
   "source": [
    "- 3.1. Graficar la trayectoria del proyectil"
   ]
  },
  {
   "cell_type": "code",
   "execution_count": 237,
   "metadata": {
    "id": "ENTRX3iTeYay"
   },
   "outputs": [],
   "source": [
    "def x_t(t):\n",
    "    return 10*100*np.array(np.cos(np.pi/3))*np.array((1-np.array(np.exp(np.array(t)/(-10)))))"
   ]
  },
  {
   "cell_type": "code",
   "execution_count": 258,
   "metadata": {},
   "outputs": [],
   "source": [
    "def y_t(t):\n",
    "    return (10*100*np.sin(np.pi/3) + 9.8*(10)**2)*np.array((1-np.array(np.exp(np.array(t)/(-10))))) - 9.8*10*np.array(t)"
   ]
  },
  {
   "cell_type": "code",
   "execution_count": 290,
   "metadata": {},
   "outputs": [
    {
     "data": {
      "image/png": "[encoded data removed]",
      "text/plain": [
       "<Figure size 432x288 with 1 Axes>"
      ]
     },
     "metadata": {
      "needs_background": "light"
     },
     "output_type": "display_data"
    }
   ],
   "source": [
    "t_test = np.linspace(0,14.35,100)\n",
    "#t_test\n",
    "plt.title('Trayectoria del Proyectil')\n",
    "plt.xlabel('Coordenada x')\n",
    "plt.ylabel('Coordenada y')\n",
    "plt.plot(x_t(t_test), y_t(t_test), '-')\n",
    "plt.grid()"
   ]
  },
  {
   "cell_type": "markdown",
   "metadata": {
    "id": "s6Fz4fDaH6MF"
   },
   "source": [
    "- 3.2. Utilizar un método numérico (toolbox) con punto inicial $p_0=14$ y obtener una solución. . Indicar cuántos dígitos significativos tiene la solución."
   ]
  },
  {
   "cell_type": "markdown",
   "metadata": {},
   "source": [
    "**Solución:** Queremos resolver la ecuación $$y(t)=0,$$\n",
    "con $t\\neq 0$."
   ]
  },
  {
   "cell_type": "code",
   "execution_count": 277,
   "metadata": {},
   "outputs": [],
   "source": [
    "def y(t):\n",
    "    return (10*100*np.sin(np.pi/3) + 9.8*(10)**2)*(1-np.array(np.exp(np.array(t)/(-10)))) - 9.8*10*t"
   ]
  },
  {
   "cell_type": "code",
   "execution_count": 281,
   "metadata": {
    "id": "ACzscmuOeYa_"
   },
   "outputs": [],
   "source": [
    "def dy(t):\n",
    "    return -10*100*np.sin(np.pi/3)*(-1/10)*np.exp(t/(-10)) + 9.8*10*np.exp(t/(-10))-9.8*10"
   ]
  },
  {
   "cell_type": "code",
   "execution_count": 437,
   "metadata": {},
   "outputs": [
    {
     "name": "stdout",
     "output_type": "stream",
     "text": [
      "El proyectil toca el suelo al cabo de 14.352930484287462 segundos, aproximadamente.\n"
     ]
    }
   ],
   "source": [
    "solucion1 = optimize.root(y,14,jac = dy, method = 'broyden1')\n",
    "print('El proyectil toca el suelo al cabo de', solucion1.x , 'segundos, aproximadamente.')"
   ]
  },
  {
   "cell_type": "code",
   "execution_count": 376,
   "metadata": {},
   "outputs": [
    {
     "data": {
      "text/plain": [
       "-6.546378024633241e-12"
      ]
     },
     "execution_count": 376,
     "metadata": {},
     "output_type": "execute_result"
    }
   ],
   "source": [
    "#Dígitos Significativos\n",
    "t = 8\n",
    "t_aprox = solucion1.x\n",
    "epsilon = 0.5*10**(1-t)\n",
    "\n",
    "# Test del signo\n",
    "y(t_aprox-epsilon)*y(t_aprox+epsilon)"
   ]
  },
  {
   "cell_type": "markdown",
   "metadata": {},
   "source": [
    "**Observación:** La aproximación tiene a lo menos ocho dígitos significativos"
   ]
  },
  {
   "cell_type": "markdown",
   "metadata": {
    "id": "wB2II_fKIJP0"
   },
   "source": [
    "- 3.3 Aplicar el método de Newton y obtener una solución. Indicar cuántos dígitos significativos tiene la solución."
   ]
  },
  {
   "cell_type": "markdown",
   "metadata": {},
   "source": [
    "**Solución:**"
   ]
  },
  {
   "cell_type": "code",
   "execution_count": 438,
   "metadata": {},
   "outputs": [],
   "source": [
    "def metodo_newton(f,df,x0, tol = 10**(-8)):\n",
    "    fm = f(x0)\n",
    "    x = x0\n",
    "    k = 0 \n",
    "    while np.abs(fm) > tol:\n",
    "        x = x - f(x)/df(x)\n",
    "        fm = f(x)\n",
    "        k +=1\n",
    "        if k > 1000:\n",
    "            print('no converge')\n",
    "            break\n",
    "    print('cantidad de iteraciones:', k)\n",
    "    return x"
   ]
  },
  {
   "cell_type": "code",
   "execution_count": 439,
   "metadata": {},
   "outputs": [
    {
     "name": "stdout",
     "output_type": "stream",
     "text": [
      "cantidad de iteraciones: 3\n",
      "El proyectil toca el suelo al cabo de 14.352930500402064 segundos, aproximadamente.\n"
     ]
    }
   ],
   "source": [
    "m = metodo_newton(y, dy, 14)\n",
    "print('El proyectil toca el suelo al cabo de', m , 'segundos, aproximadamente.')"
   ]
  },
  {
   "cell_type": "code",
   "execution_count": 366,
   "metadata": {},
   "outputs": [
    {
     "name": "stdout",
     "output_type": "stream",
     "text": [
      "cantidad de iteraciones: 3\n"
     ]
    },
    {
     "data": {
      "text/plain": [
       "-7.301936857311852e-22"
      ]
     },
     "execution_count": 366,
     "metadata": {},
     "output_type": "execute_result"
    }
   ],
   "source": [
    "#Dígitos Significativos\n",
    "t = 13\n",
    "t_aprox = metodo_newton(y, dy, 14)\n",
    "epsilon = 0.5*10**(1-t)\n",
    "\n",
    "# Test del signo\n",
    "y(t_aprox-epsilon)*y(t_aprox+epsilon)"
   ]
  },
  {
   "cell_type": "markdown",
   "metadata": {},
   "source": [
    "**Observación:** La aproximación tiene a lo menos trece dígitos significativos"
   ]
  }
 ],
 "metadata": {
  "colab": {
   "name": "2022 - EC - Tarea 2 - Estadística Computacional.ipynb",
   "provenance": []
  },
  "kernelspec": {
   "display_name": "Python 3 (ipykernel)",
   "language": "python",
   "name": "python3"
  },
  "language_info": {
   "codemirror_mode": {
    "name": "ipython",
    "version": 3
   },
   "file_extension": ".py",
   "mimetype": "text/x-python",
   "name": "python",
   "nbconvert_exporter": "python",
   "pygments_lexer": "ipython3",
   "version": "3.9.7"
  }
 },
 "nbformat": 4,
 "nbformat_minor": 1
}
